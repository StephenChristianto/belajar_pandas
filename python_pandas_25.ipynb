{
 "cells": [
  {
   "cell_type": "markdown",
   "id": "c8ecf930",
   "metadata": {},
   "source": [
    "# 25 - display option"
   ]
  },
  {
   "cell_type": "markdown",
   "id": "d0535fff",
   "metadata": {},
   "source": [
    "# Import Modules"
   ]
  },
  {
   "cell_type": "code",
   "execution_count": 1,
   "id": "7b14e96e",
   "metadata": {},
   "outputs": [
    {
     "name": "stdout",
     "output_type": "stream",
     "text": [
      "1.2.4\n"
     ]
    }
   ],
   "source": [
    "import pandas as pd\n",
    "\n",
    "print(pd.__version__)"
   ]
  },
  {
   "cell_type": "markdown",
   "id": "6cd83751",
   "metadata": {},
   "source": [
    "# Persiapan Data Frame"
   ]
  },
  {
   "cell_type": "code",
   "execution_count": null,
   "id": "b15ed892",
   "metadata": {},
   "outputs": [],
   "source": [
    "df = pd.read_csv('./titanicfull.csv')\n",
    "df"
   ]
  },
  {
   "cell_type": "markdown",
   "id": "cd112893",
   "metadata": {},
   "source": [
    "# Pengaturan Tampilan"
   ]
  },
  {
   "cell_type": "markdown",
   "id": "e007fdd1",
   "metadata": {},
   "source": [
    "1.untuk mengatur tampilan, kita memanggil pd.set_option dan disertakan dengan hal apa yang mau akan di ubah\n",
    "\n",
    "display max_rows berfungsi untuk menampilkan maksimal  jumlah rows \n",
    "\n",
    "display max_columns berfungsi untuk menampilkan maksimal jumlah columns\n",
    "\n",
    "display max_colwitdth berfungsi untuk menampilkan lebar kolom "
   ]
  },
  {
   "cell_type": "code",
   "execution_count": null,
   "id": "b6b10221",
   "metadata": {},
   "outputs": [],
   "source": [
    "pd.set_option('display.max_rows',5)\n",
    "pd.set_option('display.max_columns',6)\n",
    "pd.set_option('display.max_colwidth',20)\n",
    "\n",
    "df"
   ]
  },
  {
   "cell_type": "code",
   "execution_count": null,
   "id": "9e3054dc",
   "metadata": {},
   "outputs": [],
   "source": [
    "pd.reset_option('^display.',silent=True)\n",
    "df"
   ]
  },
  {
   "cell_type": "code",
   "execution_count": null,
   "id": "0e2369e5",
   "metadata": {},
   "outputs": [],
   "source": [
    "pd.describe_option()"
   ]
  },
  {
   "cell_type": "code",
   "execution_count": null,
   "id": "58da7ca0",
   "metadata": {},
   "outputs": [],
   "source": []
  }
 ],
 "metadata": {
  "kernelspec": {
   "display_name": "Python 3",
   "language": "python",
   "name": "python3"
  },
  "language_info": {
   "codemirror_mode": {
    "name": "ipython",
    "version": 3
   },
   "file_extension": ".py",
   "mimetype": "text/x-python",
   "name": "python",
   "nbconvert_exporter": "python",
   "pygments_lexer": "ipython3",
   "version": "3.8.8"
  }
 },
 "nbformat": 4,
 "nbformat_minor": 5
}
