{
 "cells": [
  {
   "cell_type": "markdown",
   "id": "a08299bd",
   "metadata": {},
   "source": [
    "# 41 - Agregasi pada banyak kolom Data Frame dengan agg"
   ]
  },
  {
   "cell_type": "markdown",
   "id": "5fb9507c",
   "metadata": {},
   "source": [
    "# Import Modules"
   ]
  },
  {
   "cell_type": "code",
   "execution_count": 1,
   "id": "3f3dde89",
   "metadata": {},
   "outputs": [
    {
     "name": "stdout",
     "output_type": "stream",
     "text": [
      "1.2.4\n"
     ]
    }
   ],
   "source": [
    "import pandas as pd\n",
    "\n",
    "print(pd.__version__)"
   ]
  },
  {
   "cell_type": "markdown",
   "id": "ff84d29d",
   "metadata": {},
   "source": [
    "# Persiapan Data Frame"
   ]
  },
  {
   "cell_type": "code",
   "execution_count": null,
   "id": "aff4b7f0",
   "metadata": {},
   "outputs": [],
   "source": [
    "df = pd.read_csv('./desktop/belajar_pandas/titanicfull.csv')\n",
    "df.head()"
   ]
  },
  {
   "cell_type": "markdown",
   "id": "fa0fc682",
   "metadata": {},
   "source": [
    "# Menerapkan agregasi pada sejumlah kolom dengan agg() "
   ]
  },
  {
   "cell_type": "markdown",
   "id": "d72a0575",
   "metadata": {},
   "source": [
    "pertama mengelompokkan dahulu pclass lalu menyertakan .agg dengan 3 dictionary , yang dimana ada key dan value \n",
    "\n",
    "key nya akan mempresentasikan kolom agregasi "
   ]
  },
  {
   "cell_type": "code",
   "execution_count": null,
   "id": "c5f336a7",
   "metadata": {},
   "outputs": [],
   "source": [
    "df.groupby('pclass').agg({'pclass':'count','age'\n",
    "                                          :['mean','max'],\n",
    "                                            'survived':'mean'})"
   ]
  },
  {
   "cell_type": "markdown",
   "id": "c7a09ef0",
   "metadata": {},
   "source": [
    "disini kita akan membuat fungsi agregasi dengan parameter supaya terlihat lebih nyaman"
   ]
  },
  {
   "cell_type": "code",
   "execution_count": null,
   "id": "a3a71752",
   "metadata": {},
   "outputs": [],
   "source": [
    "df.groupby('pclass').agg(n_pass=('pclass','count'),\n",
    "                                        avg_age=('age','mean'),\n",
    "                                      max_age=('age','max'),\n",
    "                               survival_rate=('survived','mean'))"
   ]
  }
 ],
 "metadata": {
  "kernelspec": {
   "display_name": "Python 3",
   "language": "python",
   "name": "python3"
  },
  "language_info": {
   "codemirror_mode": {
    "name": "ipython",
    "version": 3
   },
   "file_extension": ".py",
   "mimetype": "text/x-python",
   "name": "python",
   "nbconvert_exporter": "python",
   "pygments_lexer": "ipython3",
   "version": "3.8.8"
  }
 },
 "nbformat": 4,
 "nbformat_minor": 5
}
