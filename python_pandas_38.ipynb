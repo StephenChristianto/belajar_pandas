{
 "cells": [
  {
   "cell_type": "markdown",
   "id": "f8ce0617",
   "metadata": {},
   "source": [
    "# 38 - Parameter header dan skiprows pada read_csv"
   ]
  },
  {
   "cell_type": "markdown",
   "id": "1bff6e47",
   "metadata": {},
   "source": [
    "# Import Modules"
   ]
  },
  {
   "cell_type": "code",
   "execution_count": 1,
   "id": "0e965faf",
   "metadata": {},
   "outputs": [
    {
     "name": "stdout",
     "output_type": "stream",
     "text": [
      "1.2.4\n"
     ]
    }
   ],
   "source": [
    "import pandas as pd \n",
    "\n",
    "print(pd.__version__)"
   ]
  },
  {
   "cell_type": "markdown",
   "id": "fcb858fb",
   "metadata": {},
   "source": [
    "# Persiapan Data Frame"
   ]
  },
  {
   "cell_type": "code",
   "execution_count": null,
   "id": "4c220f7f",
   "metadata": {},
   "outputs": [],
   "source": [
    "df = pd.read_csv('./desktop/belajar_pandas/iris_error.csv')\n",
    "df.head(8)"
   ]
  },
  {
   "cell_type": "markdown",
   "id": "b69a4c9e",
   "metadata": {},
   "source": [
    "menggunakan parameter header dengan nilai 2 yang digunakan untuk menentukan baris yang akan jadi header , lalu menggunakan skiprow untuk melewati baris index tertentu "
   ]
  }
 ],
 "metadata": {
  "kernelspec": {
   "display_name": "Python 3",
   "language": "python",
   "name": "python3"
  },
  "language_info": {
   "codemirror_mode": {
    "name": "ipython",
    "version": 3
   },
   "file_extension": ".py",
   "mimetype": "text/x-python",
   "name": "python",
   "nbconvert_exporter": "python",
   "pygments_lexer": "ipython3",
   "version": "3.8.8"
  }
 },
 "nbformat": 4,
 "nbformat_minor": 5
}
