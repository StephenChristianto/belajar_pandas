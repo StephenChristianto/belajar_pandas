{
 "cells": [
  {
   "cell_type": "markdown",
   "id": "b1863839",
   "metadata": {},
   "source": [
    "# 42 - Mengurutkan data kolom pada Data Frame"
   ]
  },
  {
   "cell_type": "markdown",
   "id": "8214b825",
   "metadata": {},
   "source": [
    "# Import Modules"
   ]
  },
  {
   "cell_type": "code",
   "execution_count": 1,
   "id": "fd8af07f",
   "metadata": {},
   "outputs": [
    {
     "name": "stdout",
     "output_type": "stream",
     "text": [
      "1.2.4\n"
     ]
    }
   ],
   "source": [
    "import pandas as pd\n",
    "\n",
    "print(pd.__version__)"
   ]
  },
  {
   "cell_type": "markdown",
   "id": "dea73fc6",
   "metadata": {},
   "source": [
    "# Persiapan Data Frame"
   ]
  },
  {
   "cell_type": "code",
   "execution_count": null,
   "id": "d5dfc8ea",
   "metadata": {},
   "outputs": [],
   "source": [
    "df = pd.read_csv('./desktop/belajar_pandas/titanicfull.csv')\n",
    "df.head()"
   ]
  },
  {
   "cell_type": "markdown",
   "id": "0c54c343",
   "metadata": {},
   "source": [
    "# Mengurutkan data berdasarkan kolom tertentu"
   ]
  },
  {
   "cell_type": "markdown",
   "id": "6645e53e",
   "metadata": {},
   "source": [
    "jika ingin mengurutkan data kita bisa menggunakan fungsi sort_value() di dlam kurung diisikan dengan nama kolom / data yang mau di urut\n",
    "\n",
    "lalu menggunakan .head() untuk menampilkan data "
   ]
  },
  {
   "cell_type": "code",
   "execution_count": null,
   "id": "7851867b",
   "metadata": {},
   "outputs": [],
   "source": [
    "df.sort_values('age').head()"
   ]
  },
  {
   "cell_type": "markdown",
   "id": "a4fb7900",
   "metadata": {},
   "source": [
    "jika ingin mengurutkan data dari data besar ke data kecil kita bisa menggunakan atau menambahkan parameter ascendling dengan parameter false"
   ]
  },
  {
   "cell_type": "code",
   "execution_count": null,
   "id": "f4310dd7",
   "metadata": {},
   "outputs": [],
   "source": [
    "df.sort_values('age',ascending=False).head()"
   ]
  },
  {
   "cell_type": "markdown",
   "id": "23357242",
   "metadata": {},
   "source": [
    "jika kita mau mengurutkan lebih dari 1 kolom kita bisa menggunakan fungsi ini"
   ]
  },
  {
   "cell_type": "code",
   "execution_count": null,
   "id": "5766c684",
   "metadata": {},
   "outputs": [],
   "source": [
    "df.sort_values(['survived','age']).head()"
   ]
  }
 ],
 "metadata": {
  "kernelspec": {
   "display_name": "Python 3",
   "language": "python",
   "name": "python3"
  },
  "language_info": {
   "codemirror_mode": {
    "name": "ipython",
    "version": 3
   },
   "file_extension": ".py",
   "mimetype": "text/x-python",
   "name": "python",
   "nbconvert_exporter": "python",
   "pygments_lexer": "ipython3",
   "version": "3.8.8"
  }
 },
 "nbformat": 4,
 "nbformat_minor": 5
}
