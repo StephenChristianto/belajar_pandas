{
 "cells": [
  {
   "cell_type": "markdown",
   "id": "5bbbda38",
   "metadata": {},
   "source": [
    "# 49 - Seleksi kolom dengan f-string"
   ]
  },
  {
   "cell_type": "markdown",
   "id": "5a445053",
   "metadata": {},
   "source": [
    "# Import Modules"
   ]
  },
  {
   "cell_type": "code",
   "execution_count": 1,
   "id": "df5a4898",
   "metadata": {},
   "outputs": [
    {
     "name": "stdout",
     "output_type": "stream",
     "text": [
      "1.2.4\n"
     ]
    }
   ],
   "source": [
    "import pandas as pd\n",
    "\n",
    "print(pd.__version__)"
   ]
  },
  {
   "cell_type": "markdown",
   "id": "c46e765b",
   "metadata": {},
   "source": [
    "# Persiapan Data Frame"
   ]
  },
  {
   "cell_type": "markdown",
   "id": "82df8b69",
   "metadata": {},
   "source": [
    "menggunakan data iris csv sebagai data frame"
   ]
  },
  {
   "cell_type": "code",
   "execution_count": null,
   "id": "e9b7acd1",
   "metadata": {},
   "outputs": [],
   "source": [
    "df = pd.read_csv('./Desktop/belajar_pandas/Iris.csv')\n",
    "df.head()"
   ]
  },
  {
   "cell_type": "markdown",
   "id": "51644024",
   "metadata": {},
   "source": [
    "# Seleksi kolom dengan f-string"
   ]
  },
  {
   "cell_type": "markdown",
   "id": "d2d58362",
   "metadata": {},
   "source": [
    "untuk menseleksi data frame bisa menggunakan df['SepalWidthCm'].to_frame().head()"
   ]
  },
  {
   "cell_type": "code",
   "execution_count": null,
   "id": "20f6a1ca",
   "metadata": {},
   "outputs": [],
   "source": [
    "df['SepalWidthCm'].to_frame().head()"
   ]
  },
  {
   "cell_type": "markdown",
   "id": "a67d600b",
   "metadata": {},
   "source": [
    "jika ingin menampilkan vairable part dengan digabungkan dengan widthCm bisa menggunakan fungsi berikut"
   ]
  },
  {
   "cell_type": "code",
   "execution_count": null,
   "id": "c550b16e",
   "metadata": {},
   "outputs": [],
   "source": [
    "part = 'Sepal'\n",
    "df[f'{part}WidthCm'].to_frame().head()"
   ]
  },
  {
   "cell_type": "markdown",
   "id": "c681d593",
   "metadata": {},
   "source": [
    "jika ingin menampilkan 2 sekaligus data bisa menggunakan fungsi berikut yang tidak harus menggunakan .to frame"
   ]
  },
  {
   "cell_type": "code",
   "execution_count": null,
   "id": "14129587",
   "metadata": {},
   "outputs": [],
   "source": [
    "df[['PetalWidthCm','PetalLengthCm']].head()"
   ]
  },
  {
   "cell_type": "code",
   "execution_count": null,
   "id": "e5ff1b6b",
   "metadata": {},
   "outputs": [],
   "source": [
    "part = 'Petal'\n",
    "\n",
    "df[[f'{part}WidthCm',f'{part}LengthCm']].head()"
   ]
  }
 ],
 "metadata": {
  "kernelspec": {
   "display_name": "Python 3",
   "language": "python",
   "name": "python3"
  },
  "language_info": {
   "codemirror_mode": {
    "name": "ipython",
    "version": 3
   },
   "file_extension": ".py",
   "mimetype": "text/x-python",
   "name": "python",
   "nbconvert_exporter": "python",
   "pygments_lexer": "ipython3",
   "version": "3.8.8"
  }
 },
 "nbformat": 4,
 "nbformat_minor": 5
}
