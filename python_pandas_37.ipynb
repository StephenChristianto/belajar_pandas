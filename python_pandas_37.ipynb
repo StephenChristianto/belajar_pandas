{
 "cells": [
  {
   "cell_type": "markdown",
   "id": "eab48402",
   "metadata": {},
   "source": [
    "# 37 - Seleksi baris dengan banyak kriteria pada Data Frame"
   ]
  },
  {
   "cell_type": "markdown",
   "id": "c929cc3e",
   "metadata": {},
   "source": [
    "# Import Modules"
   ]
  },
  {
   "cell_type": "code",
   "execution_count": 1,
   "id": "ee61e74c",
   "metadata": {},
   "outputs": [
    {
     "name": "stdout",
     "output_type": "stream",
     "text": [
      "1.2.4\n"
     ]
    }
   ],
   "source": [
    "import pandas as pd\n",
    "\n",
    "print(pd.__version__)"
   ]
  },
  {
   "cell_type": "markdown",
   "id": "e57db966",
   "metadata": {},
   "source": [
    "# Persiapan Data Frame"
   ]
  },
  {
   "cell_type": "markdown",
   "id": "bc2c983e",
   "metadata": {},
   "source": [
    "menggunakan persiapan data frame dengan data titanicfull csv"
   ]
  },
  {
   "cell_type": "code",
   "execution_count": null,
   "id": "ffc1c9a6",
   "metadata": {},
   "outputs": [],
   "source": [
    "df = pd.read_csv('./desktop/belajar_pandas/titanicfull.csv')\n",
    "df.head()"
   ]
  },
  {
   "cell_type": "markdown",
   "id": "18f79cd5",
   "metadata": {},
   "source": [
    "# Seleksi Baris dengan banyak kriteria"
   ]
  },
  {
   "cell_type": "markdown",
   "id": "1726e53c",
   "metadata": {},
   "source": [
    "jika ingin menseleksi kita bisa menyertakan kriteria yang kita inginkan "
   ]
  },
  {
   "cell_type": "code",
   "execution_count": null,
   "id": "e627a460",
   "metadata": {},
   "outputs": [],
   "source": [
    "df[(df['sex']=='female')&(df['age']>=60)&(df['embarked']=='S')&(df['survived']==1)]"
   ]
  },
  {
   "cell_type": "markdown",
   "id": "a5850302",
   "metadata": {},
   "source": [
    "disini kita juga bisa merapihkan penulisan baris tersebut"
   ]
  },
  {
   "cell_type": "code",
   "execution_count": null,
   "id": "5df347ff",
   "metadata": {},
   "outputs": [],
   "source": [
    "df[\n",
    "    (df['sex']=='female')&\n",
    "    (df['age']>=60)&\n",
    "    (df['embarked']=='S')&\n",
    "    (df['survived']==1)\n",
    "]"
   ]
  },
  {
   "cell_type": "code",
   "execution_count": null,
   "id": "30ff2f92",
   "metadata": {},
   "outputs": [],
   "source": [
    "kr1 = df['sex']=='female'\n",
    "kr2 = df['age']>=60\n",
    "kr3 = df['embarked']=='S'\n",
    "kr4 = df['survived']==1\n",
    "\n",
    "df[kr1&kr2&kr3&kr4]"
   ]
  }
 ],
 "metadata": {
  "kernelspec": {
   "display_name": "Python 3",
   "language": "python",
   "name": "python3"
  },
  "language_info": {
   "codemirror_mode": {
    "name": "ipython",
    "version": 3
   },
   "file_extension": ".py",
   "mimetype": "text/x-python",
   "name": "python",
   "nbconvert_exporter": "python",
   "pygments_lexer": "ipython3",
   "version": "3.8.8"
  }
 },
 "nbformat": 4,
 "nbformat_minor": 5
}
